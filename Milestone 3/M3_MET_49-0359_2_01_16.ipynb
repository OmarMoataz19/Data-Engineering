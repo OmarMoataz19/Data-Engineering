{
 "cells": [
  {
   "cell_type": "markdown",
   "id": "ec70f372",
   "metadata": {},
   "source": [
    "# Milestone 3 - Pre-processing and analysis with PySpark\n",
    "\n",
    "## Deadline - Sunday, 10th of December @11.59 pm \n",
    "\n",
    "The goal of this milestone is to preprocess the dataset 'New York yellow taxis' by performing basic data preparation and basic analysis to gain a better understanding of the data using PySpark.\n",
    "\n",
    "Use the same month and year you used for the green taxis in milestone 1. [Datasets](https://drive.google.com/drive/folders/1t8nBgbHVaA5roZY4z3RcAG1_JMYlSTqu?usp=sharing) (download the yellow taxis dataset).\n",
    "\n",
    "Important Notes:\n",
    "- You MUST use this notebook template/structure. not doing so will result in marks deduction.\n",
    "- You MUST have the cells run and output shown similar to milestone 1. I will NOT RUN YOUR NOTEBOOK.\n",
    "\n",
    "Submission guidelines: same as milestone 1.\n",
    "\n",
    "Notebook name must be same format as the file you named in miletsone 1. Just M3 instead of M1.\n",
    "\n",
    "IMPORTANT: You are only allowed to use PySpark unless explicitly told otherwise(i.e last task).\n",
    "\n",
    "Useful resource/documentation (highly recommended) - [PySpark examples](https://sparkbyexamples.com/pyspark-tutorial/)\n"
   ]
  },
  {
   "cell_type": "markdown",
   "id": "22dd9327",
   "metadata": {},
   "source": [
    "## Weight dist.\n",
    "- Loading the dataset : 5%\n",
    "- Basic cleaning: 30%\n",
    "\t- column renaming: 10%\n",
    "\t- detect missing: 35%\n",
    "\t- Handle missing: 35%\n",
    "\t- Check missing : 20%\n",
    "- Analyses: 30%\n",
    "- Encoding: 20%\n",
    "- Lookup table: 10%\n",
    "- Writing the cleaned and lookup table back as parquet and csv files: 5%."
   ]
  },
  {
   "cell_type": "markdown",
   "id": "373d9b0c",
   "metadata": {},
   "source": [
    "# Tasks:"
   ]
  },
  {
   "cell_type": "markdown",
   "id": "dd35a7dc",
   "metadata": {},
   "source": [
    "## Load the dataset."
   ]
  },
  {
   "cell_type": "code",
   "execution_count": 1,
   "id": "3efa26f4",
   "metadata": {
    "ExecuteTime": {
     "end_time": "2023-11-28T23:23:42.249963Z",
     "start_time": "2023-11-28T23:23:37.097246Z"
    }
   },
   "outputs": [],
   "source": [
    "## start the session\n",
    "from pyspark.sql import SparkSession\n",
    "# Initialize Spark session\n",
    "spark = SparkSession.builder.appName(\"M3\").config(\"spark.memory.offHeap.enabled\",\"true\").config(\"spark.memory.offHeap.size\",\"10g\").getOrCreate()\n",
    "spark.conf.set(\"spark.sql.legacy.timeParserPolicy\", \"LEGACY\")\n",
    "# spark context to interact with the driver\n",
    "sc = spark.sparkContext\n",
    "\n",
    "from pyspark.sql import DataFrame\n",
    "from pyspark.sql.functions import col, count, datediff, dayofweek, weekofyear, date_format, avg, when, to_date\n",
    "from pyspark.sql.types import StringType, NumericType\n",
    "from pyspark.ml.feature import StringIndexer\n",
    "import pandas as pd "
   ]
  },
  {
   "cell_type": "code",
   "execution_count": 2,
   "id": "050e3822",
   "metadata": {
    "ExecuteTime": {
     "end_time": "2023-11-28T23:23:44.905578Z",
     "start_time": "2023-11-28T23:23:42.252579Z"
    }
   },
   "outputs": [],
   "source": [
    "df = spark.read.parquet('yellow_tripdata_2016-01.parquet')"
   ]
  },
  {
   "cell_type": "markdown",
   "id": "f7eb86a5",
   "metadata": {},
   "source": [
    "### Preview first 20 rows."
   ]
  },
  {
   "cell_type": "code",
   "execution_count": 3,
   "id": "0fa27dab",
   "metadata": {
    "ExecuteTime": {
     "end_time": "2023-11-28T23:23:46.789620Z",
     "start_time": "2023-11-28T23:23:44.908118Z"
    }
   },
   "outputs": [
    {
     "name": "stdout",
     "output_type": "stream",
     "text": [
      "-RECORD 0-------------------------------------\n",
      " Vendor                | Creative Mobile T... \n",
      " tpep_pickup_datetime  | 2016-01-01 01:12:22  \n",
      " tpep_dropoff_datetime | 2016-01-01 01:29:14  \n",
      " passenger_count       | 1.0                  \n",
      " trip_distance         | 3.2                  \n",
      " Rate_type             | Standard rate        \n",
      " store_and_fwd_flag    | N                    \n",
      " PU_Location           | Manhattan,Clinton... \n",
      " DO_Location           | Manhattan,Yorkvil... \n",
      " payment_type          | Credit card          \n",
      " fare_amount           | 14.0                 \n",
      " extra                 | 0.5                  \n",
      " mta_tax               | 0.5                  \n",
      " tip_amount            | 3.06                 \n",
      " tolls_amount          | 0.0                  \n",
      " improvement_surcharge | 0.3                  \n",
      " total_amount          | 18.36                \n",
      " congestion_surcharge  | null                 \n",
      " airport_fee           | null                 \n",
      "-RECORD 1-------------------------------------\n",
      " Vendor                | Creative Mobile T... \n",
      " tpep_pickup_datetime  | 2016-01-01 01:41:31  \n",
      " tpep_dropoff_datetime | 2016-01-01 01:55:10  \n",
      " passenger_count       | 2.0                  \n",
      " trip_distance         | 1.0                  \n",
      " Rate_type             | Standard rate        \n",
      " store_and_fwd_flag    | N                    \n",
      " PU_Location           | Manhattan,Midtown... \n",
      " DO_Location           | Manhattan,Clinton... \n",
      " payment_type          | Cash                 \n",
      " fare_amount           | 9.5                  \n",
      " extra                 | 0.5                  \n",
      " mta_tax               | 0.5                  \n",
      " tip_amount            | 0.0                  \n",
      " tolls_amount          | 0.0                  \n",
      " improvement_surcharge | 0.3                  \n",
      " total_amount          | 10.8                 \n",
      " congestion_surcharge  | null                 \n",
      " airport_fee           | null                 \n",
      "-RECORD 2-------------------------------------\n",
      " Vendor                | Creative Mobile T... \n",
      " tpep_pickup_datetime  | 2016-01-01 01:53:37  \n",
      " tpep_dropoff_datetime | 2016-01-01 01:59:57  \n",
      " passenger_count       | 1.0                  \n",
      " trip_distance         | 0.9                  \n",
      " Rate_type             | Standard rate        \n",
      " store_and_fwd_flag    | N                    \n",
      " PU_Location           | Manhattan,West Ch... \n",
      " DO_Location           | Manhattan,Flatiron   \n",
      " payment_type          | Cash                 \n",
      " fare_amount           | 6.0                  \n",
      " extra                 | 0.5                  \n",
      " mta_tax               | 0.5                  \n",
      " tip_amount            | 0.0                  \n",
      " tolls_amount          | 0.0                  \n",
      " improvement_surcharge | 0.3                  \n",
      " total_amount          | 7.3                  \n",
      " congestion_surcharge  | null                 \n",
      " airport_fee           | null                 \n",
      "-RECORD 3-------------------------------------\n",
      " Vendor                | Creative Mobile T... \n",
      " tpep_pickup_datetime  | 2016-01-01 01:13:28  \n",
      " tpep_dropoff_datetime | 2016-01-01 01:18:07  \n",
      " passenger_count       | 1.0                  \n",
      " trip_distance         | 0.8                  \n",
      " Rate_type             | Standard rate        \n",
      " store_and_fwd_flag    | N                    \n",
      " PU_Location           | Manhattan,Murray ... \n",
      " DO_Location           | Manhattan,Midtown... \n",
      " payment_type          | Cash                 \n",
      " fare_amount           | 5.0                  \n",
      " extra                 | 0.5                  \n",
      " mta_tax               | 0.5                  \n",
      " tip_amount            | 0.0                  \n",
      " tolls_amount          | 0.0                  \n",
      " improvement_surcharge | 0.3                  \n",
      " total_amount          | 6.3                  \n",
      " congestion_surcharge  | null                 \n",
      " airport_fee           | null                 \n",
      "-RECORD 4-------------------------------------\n",
      " Vendor                | Creative Mobile T... \n",
      " tpep_pickup_datetime  | 2016-01-01 01:33:04  \n",
      " tpep_dropoff_datetime | 2016-01-01 01:47:14  \n",
      " passenger_count       | 1.0                  \n",
      " trip_distance         | 1.8                  \n",
      " Rate_type             | Standard rate        \n",
      " store_and_fwd_flag    | N                    \n",
      " PU_Location           | Manhattan,Midtown... \n",
      " DO_Location           | Manhattan,Lenox H... \n",
      " payment_type          | null                 \n",
      " fare_amount           | 11.0                 \n",
      " extra                 | 0.5                  \n",
      " mta_tax               | 0.5                  \n",
      " tip_amount            | 0.0                  \n",
      " tolls_amount          | 0.0                  \n",
      " improvement_surcharge | 0.3                  \n",
      " total_amount          | 12.3                 \n",
      " congestion_surcharge  | null                 \n",
      " airport_fee           | null                 \n",
      "-RECORD 5-------------------------------------\n",
      " Vendor                | Creative Mobile T... \n",
      " tpep_pickup_datetime  | 2016-01-01 01:49:47  \n",
      " tpep_dropoff_datetime | 2016-01-01 02:04:44  \n",
      " passenger_count       | 1.0                  \n",
      " trip_distance         | 2.3                  \n",
      " Rate_type             | Standard rate        \n",
      " store_and_fwd_flag    | N                    \n",
      " PU_Location           | Manhattan,Lenox H... \n",
      " DO_Location           | Manhattan,Kips Bay   \n",
      " payment_type          | Credit card          \n",
      " fare_amount           | 11.0                 \n",
      " extra                 | 0.5                  \n",
      " mta_tax               | 0.5                  \n",
      " tip_amount            | 2.45                 \n",
      " tolls_amount          | 0.0                  \n",
      " improvement_surcharge | 0.3                  \n",
      " total_amount          | 14.75                \n",
      " congestion_surcharge  | null                 \n",
      " airport_fee           | null                 \n",
      "-RECORD 6-------------------------------------\n",
      " Vendor                | Creative Mobile T... \n",
      " tpep_pickup_datetime  | 2016-01-01 01:41:58  \n",
      " tpep_dropoff_datetime | 2016-01-01 02:22:06  \n",
      " passenger_count       | 1.0                  \n",
      " trip_distance         | 13.8                 \n",
      " Rate_type             | Standard rate        \n",
      " store_and_fwd_flag    | N                    \n",
      " PU_Location           | Manhattan,Garment... \n",
      " DO_Location           | Queens,College Point \n",
      " payment_type          | Cash                 \n",
      " fare_amount           | 43.0                 \n",
      " extra                 | 0.5                  \n",
      " mta_tax               | 0.5                  \n",
      " tip_amount            | 0.0                  \n",
      " tolls_amount          | 0.0                  \n",
      " improvement_surcharge | 0.3                  \n",
      " total_amount          | 44.3                 \n",
      " congestion_surcharge  | null                 \n",
      " airport_fee           | null                 \n",
      "-RECORD 7-------------------------------------\n",
      " Vendor                | VeriFone Inc.        \n",
      " tpep_pickup_datetime  | 2016-01-01 01:25:28  \n",
      " tpep_dropoff_datetime | 2016-01-01 01:55:46  \n",
      " passenger_count       | 5.0                  \n",
      " trip_distance         | 3.46                 \n",
      " Rate_type             | Standard rate        \n",
      " store_and_fwd_flag    | N                    \n",
      " PU_Location           | Manhattan,Clinton... \n",
      " DO_Location           | Manhattan,East Vi... \n",
      " payment_type          | Cash                 \n",
      " fare_amount           | 20.0                 \n",
      " extra                 | 0.5                  \n",
      " mta_tax               | 0.5                  \n",
      " tip_amount            | 0.0                  \n",
      " tolls_amount          | 0.0                  \n",
      " improvement_surcharge | 0.3                  \n",
      " total_amount          | 21.3                 \n",
      " congestion_surcharge  | null                 \n",
      " airport_fee           | null                 \n",
      "-RECORD 8-------------------------------------\n",
      " Vendor                | VeriFone Inc.        \n",
      " tpep_pickup_datetime  | 2016-01-01 01:56:57  \n",
      " tpep_dropoff_datetime | 2016-01-01 02:02:24  \n",
      " passenger_count       | 4.0                  \n",
      " trip_distance         | 0.83                 \n",
      " Rate_type             | Standard rate        \n",
      " store_and_fwd_flag    | N                    \n",
      " PU_Location           | Manhattan,East Vi... \n",
      " DO_Location           | Manhattan,Gramercy   \n",
      " payment_type          | Cash                 \n",
      " fare_amount           | 5.5                  \n",
      " extra                 | 0.5                  \n",
      " mta_tax               | 0.5                  \n",
      " tip_amount            | 0.0                  \n",
      " tolls_amount          | 0.0                  \n",
      " improvement_surcharge | 0.3                  \n",
      " total_amount          | 6.8                  \n",
      " congestion_surcharge  | null                 \n",
      " airport_fee           | null                 \n",
      "-RECORD 9-------------------------------------\n",
      " Vendor                | VeriFone Inc.        \n",
      " tpep_pickup_datetime  | 2016-01-01 01:10:08  \n",
      " tpep_dropoff_datetime | 2016-01-01 01:23:05  \n",
      " passenger_count       | 1.0                  \n",
      " trip_distance         | 0.87                 \n",
      " Rate_type             | Standard rate        \n",
      " store_and_fwd_flag    | N                    \n",
      " PU_Location           | Manhattan,Midtown... \n",
      " DO_Location           | Manhattan,Midtown... \n",
      " payment_type          | Cash                 \n",
      " fare_amount           | 7.0                  \n",
      " extra                 | 0.5                  \n",
      " mta_tax               | 0.5                  \n",
      " tip_amount            | 0.0                  \n",
      " tolls_amount          | 0.0                  \n",
      " improvement_surcharge | 0.3                  \n",
      " total_amount          | 8.3                  \n",
      " congestion_surcharge  | null                 \n",
      " airport_fee           | null                 \n",
      "-RECORD 10------------------------------------\n",
      " Vendor                | VeriFone Inc.        \n",
      " tpep_pickup_datetime  | 2016-01-01 01:44:33  \n",
      " tpep_dropoff_datetime | 2016-01-01 01:53:37  \n",
      " passenger_count       | 1.0                  \n",
      " trip_distance         | 1.25                 \n",
      " Rate_type             | Standard rate        \n",
      " store_and_fwd_flag    | N                    \n",
      " PU_Location           | Manhattan,East Ch... \n",
      " DO_Location           | Manhattan,Union Sq   \n",
      " payment_type          | Credit card          \n",
      " fare_amount           | 7.5                  \n",
      " extra                 | 0.5                  \n",
      " mta_tax               | 0.5                  \n",
      " tip_amount            | 2.2                  \n",
      " tolls_amount          | 0.0                  \n",
      " improvement_surcharge | 0.3                  \n",
      " total_amount          | 11.0                 \n",
      " congestion_surcharge  | null                 \n",
      " airport_fee           | null                 \n",
      "-RECORD 11------------------------------------\n",
      " Vendor                | VeriFone Inc.        \n",
      " tpep_pickup_datetime  | 2016-01-01 01:56:47  \n",
      " tpep_dropoff_datetime | 2016-01-01 02:07:48  \n",
      " passenger_count       | 1.0                  \n",
      " trip_distance         | 1.66                 \n",
      " Rate_type             | Standard rate        \n",
      " store_and_fwd_flag    | N                    \n",
      " PU_Location           | Manhattan,Union Sq   \n",
      " DO_Location           | Manhattan,UN/Turt... \n",
      " payment_type          | Credit card          \n",
      " fare_amount           | 9.0                  \n",
      " extra                 | 0.5                  \n",
      " mta_tax               | 0.5                  \n",
      " tip_amount            | 0.0                  \n",
      " tolls_amount          | 0.0                  \n",
      " improvement_surcharge | 0.3                  \n",
      " total_amount          | 10.3                 \n",
      " congestion_surcharge  | null                 \n",
      " airport_fee           | null                 \n",
      "-RECORD 12------------------------------------\n",
      " Vendor                | Creative Mobile T... \n",
      " tpep_pickup_datetime  | 2016-01-01 01:12:44  \n",
      " tpep_dropoff_datetime | 2016-01-01 01:24:53  \n",
      " passenger_count       | 2.0                  \n",
      " trip_distance         | 2.6                  \n",
      " Rate_type             | Standard rate        \n",
      " store_and_fwd_flag    | N                    \n",
      " PU_Location           | Manhattan,Sutton ... \n",
      " DO_Location           | Manhattan,Upper W... \n",
      " payment_type          | null                 \n",
      " fare_amount           | 11.0                 \n",
      " extra                 | 0.5                  \n",
      " mta_tax               | 0.5                  \n",
      " tip_amount            | 0.0                  \n",
      " tolls_amount          | 0.0                  \n",
      " improvement_surcharge | 0.3                  \n",
      " total_amount          | 12.3                 \n",
      " congestion_surcharge  | null                 \n",
      " airport_fee           | null                 \n",
      "-RECORD 13------------------------------------\n",
      " Vendor                | Creative Mobile T... \n",
      " tpep_pickup_datetime  | 2016-01-01 01:27:11  \n",
      " tpep_dropoff_datetime | 2016-01-01 01:37:00  \n",
      " passenger_count       | 2.0                  \n",
      " trip_distance         | 2.3                  \n",
      " Rate_type             | Standard rate        \n",
      " store_and_fwd_flag    | N                    \n",
      " PU_Location           | Manhattan,Upper W... \n",
      " DO_Location           | Manhattan,Upper E... \n",
      " payment_type          | Credit card          \n",
      " fare_amount           | 9.5                  \n",
      " extra                 | 0.5                  \n",
      " mta_tax               | 0.5                  \n",
      " tip_amount            | 1.75                 \n",
      " tolls_amount          | 0.0                  \n",
      " improvement_surcharge | 0.3                  \n",
      " total_amount          | 12.55                \n",
      " congestion_surcharge  | null                 \n",
      " airport_fee           | null                 \n",
      "-RECORD 14------------------------------------\n",
      " Vendor                | Creative Mobile T... \n",
      " tpep_pickup_datetime  | 2016-01-01 01:47:28  \n",
      " tpep_dropoff_datetime | 2016-01-01 01:56:50  \n",
      " passenger_count       | 2.0                  \n",
      " trip_distance         | 1.7                  \n",
      " Rate_type             | Standard rate        \n",
      " store_and_fwd_flag    | N                    \n",
      " PU_Location           | Manhattan,Upper E... \n",
      " DO_Location           | Manhattan,Lenox H... \n",
      " payment_type          | Cash                 \n",
      " fare_amount           | 8.5                  \n",
      " extra                 | 0.5                  \n",
      " mta_tax               | 0.5                  \n",
      " tip_amount            | 0.0                  \n",
      " tolls_amount          | 0.0                  \n",
      " improvement_surcharge | 0.3                  \n",
      " total_amount          | 9.8                  \n",
      " congestion_surcharge  | null                 \n",
      " airport_fee           | null                 \n",
      "-RECORD 15------------------------------------\n",
      " Vendor                | Creative Mobile T... \n",
      " tpep_pickup_datetime  | 2016-01-01 01:02:54  \n",
      " tpep_dropoff_datetime | 2016-01-01 01:14:04  \n",
      " passenger_count       | 1.0                  \n",
      " trip_distance         | 2.6                  \n",
      " Rate_type             | Standard rate        \n",
      " store_and_fwd_flag    | N                    \n",
      " PU_Location           | Manhattan,Central... \n",
      " DO_Location           | Manhattan,Upper W... \n",
      " payment_type          | Cash                 \n",
      " fare_amount           | 10.5                 \n",
      " extra                 | 0.5                  \n",
      " mta_tax               | 0.5                  \n",
      " tip_amount            | 0.0                  \n",
      " tolls_amount          | 0.0                  \n",
      " improvement_surcharge | 0.3                  \n",
      " total_amount          | 11.8                 \n",
      " congestion_surcharge  | null                 \n",
      " airport_fee           | null                 \n",
      "-RECORD 16------------------------------------\n",
      " Vendor                | Creative Mobile T... \n",
      " tpep_pickup_datetime  | 2016-01-01 01:19:09  \n",
      " tpep_dropoff_datetime | 2016-01-01 01:25:20  \n",
      " passenger_count       | 1.0                  \n",
      " trip_distance         | 1.0                  \n",
      " Rate_type             | Standard rate        \n",
      " store_and_fwd_flag    | N                    \n",
      " PU_Location           | Manhattan,Upper W... \n",
      " DO_Location           | Manhattan,Lincoln... \n",
      " payment_type          | Credit card          \n",
      " fare_amount           | 6.5                  \n",
      " extra                 | 0.5                  \n",
      " mta_tax               | 0.5                  \n",
      " tip_amount            | 1.95                 \n",
      " tolls_amount          | 0.0                  \n",
      " improvement_surcharge | 0.3                  \n",
      " total_amount          | 9.75                 \n",
      " congestion_surcharge  | null                 \n",
      " airport_fee           | null                 \n",
      "-RECORD 17------------------------------------\n",
      " Vendor                | Creative Mobile T... \n",
      " tpep_pickup_datetime  | 2016-01-01 01:26:54  \n",
      " tpep_dropoff_datetime | 2016-01-01 01:55:27  \n",
      " passenger_count       | 1.0                  \n",
      " trip_distance         | 8.8                  \n",
      " Rate_type             | Standard rate        \n",
      " store_and_fwd_flag    | N                    \n",
      " PU_Location           | Manhattan,Lincoln... \n",
      " DO_Location           | Manhattan,Two Bri... \n",
      " payment_type          | Credit card          \n",
      " fare_amount           | 28.5                 \n",
      " extra                 | 0.5                  \n",
      " mta_tax               | 0.5                  \n",
      " tip_amount            | 7.0                  \n",
      " tolls_amount          | 0.0                  \n",
      " improvement_surcharge | 0.3                  \n",
      " total_amount          | 36.8                 \n",
      " congestion_surcharge  | null                 \n",
      " airport_fee           | null                 \n",
      "-RECORD 18------------------------------------\n",
      " Vendor                | Creative Mobile T... \n",
      " tpep_pickup_datetime  | 2016-01-01 01:19:36  \n",
      " tpep_dropoff_datetime | 2016-01-01 01:26:16  \n",
      " passenger_count       | 1.0                  \n",
      " trip_distance         | 1.0                  \n",
      " Rate_type             | Standard rate        \n",
      " store_and_fwd_flag    | N                    \n",
      " PU_Location           | Manhattan,Midtown... \n",
      " DO_Location           | Manhattan,Gramercy   \n",
      " payment_type          | Credit card          \n",
      " fare_amount           | 6.5                  \n",
      " extra                 | 0.5                  \n",
      " mta_tax               | 0.5                  \n",
      " tip_amount            | 1.0                  \n",
      " tolls_amount          | 0.0                  \n",
      " improvement_surcharge | 0.3                  \n",
      " total_amount          | 8.8                  \n",
      " congestion_surcharge  | null                 \n",
      " airport_fee           | null                 \n",
      "-RECORD 19------------------------------------\n",
      " Vendor                | Creative Mobile T... \n",
      " tpep_pickup_datetime  | 2016-01-01 01:27:55  \n",
      " tpep_dropoff_datetime | 2016-01-01 01:36:39  \n",
      " passenger_count       | 1.0                  \n",
      " trip_distance         | 1.2                  \n",
      " Rate_type             | Standard rate        \n",
      " store_and_fwd_flag    | N                    \n",
      " PU_Location           | Manhattan,Gramercy   \n",
      " DO_Location           | Manhattan,Flatiron   \n",
      " payment_type          | Cash                 \n",
      " fare_amount           | 7.5                  \n",
      " extra                 | 0.5                  \n",
      " mta_tax               | 0.5                  \n",
      " tip_amount            | 0.0                  \n",
      " tolls_amount          | 0.0                  \n",
      " improvement_surcharge | 0.3                  \n",
      " total_amount          | 8.8                  \n",
      " congestion_surcharge  | null                 \n",
      " airport_fee           | null                 \n",
      "only showing top 20 rows\n",
      "\n"
     ]
    }
   ],
   "source": [
    "df.show(20,vertical=True)"
   ]
  },
  {
   "cell_type": "code",
   "execution_count": 4,
   "id": "89b16df3",
   "metadata": {
    "ExecuteTime": {
     "end_time": "2023-11-28T23:23:46.806966Z",
     "start_time": "2023-11-28T23:23:46.791661Z"
    }
   },
   "outputs": [
    {
     "name": "stdout",
     "output_type": "stream",
     "text": [
      "root\n",
      " |-- Vendor: string (nullable = true)\n",
      " |-- tpep_pickup_datetime: timestamp (nullable = true)\n",
      " |-- tpep_dropoff_datetime: timestamp (nullable = true)\n",
      " |-- passenger_count: double (nullable = true)\n",
      " |-- trip_distance: double (nullable = true)\n",
      " |-- Rate_type: string (nullable = true)\n",
      " |-- store_and_fwd_flag: string (nullable = true)\n",
      " |-- PU_Location: string (nullable = true)\n",
      " |-- DO_Location: string (nullable = true)\n",
      " |-- payment_type: string (nullable = true)\n",
      " |-- fare_amount: double (nullable = true)\n",
      " |-- extra: double (nullable = true)\n",
      " |-- mta_tax: double (nullable = true)\n",
      " |-- tip_amount: double (nullable = true)\n",
      " |-- tolls_amount: double (nullable = true)\n",
      " |-- improvement_surcharge: double (nullable = true)\n",
      " |-- total_amount: double (nullable = true)\n",
      " |-- congestion_surcharge: integer (nullable = true)\n",
      " |-- airport_fee: integer (nullable = true)\n",
      "\n"
     ]
    }
   ],
   "source": [
    "df.printSchema()"
   ]
  },
  {
   "cell_type": "markdown",
   "id": "361aa495",
   "metadata": {},
   "source": [
    "### How many partitions is this dataframe split into?"
   ]
  },
  {
   "cell_type": "code",
   "execution_count": 5,
   "id": "c0151823",
   "metadata": {
    "ExecuteTime": {
     "end_time": "2023-11-28T23:23:46.931630Z",
     "start_time": "2023-11-28T23:23:46.809314Z"
    }
   },
   "outputs": [
    {
     "data": {
      "text/plain": [
       "12"
      ]
     },
     "execution_count": 5,
     "metadata": {},
     "output_type": "execute_result"
    }
   ],
   "source": [
    "df.rdd.getNumPartitions()"
   ]
  },
  {
   "cell_type": "markdown",
   "id": "7cd45fad",
   "metadata": {},
   "source": [
    "## Basic cleaning"
   ]
  },
  {
   "cell_type": "markdown",
   "id": "4e30192c",
   "metadata": {},
   "source": [
    "### rename all columns (replacing a space with an underscore, and making it lowercase)"
   ]
  },
  {
   "cell_type": "code",
   "execution_count": 6,
   "id": "1a36b9c8",
   "metadata": {
    "ExecuteTime": {
     "end_time": "2023-11-28T23:23:47.127182Z",
     "start_time": "2023-11-28T23:23:46.934245Z"
    }
   },
   "outputs": [],
   "source": [
    "new_column_names = {col: col.replace(\" \", \"_\").lower() for col in df.columns}\n",
    "for old_name, new_name in new_column_names.items():\n",
    "    df = df.withColumnRenamed(old_name, new_name)"
   ]
  },
  {
   "cell_type": "code",
   "execution_count": 7,
   "id": "42d857b2",
   "metadata": {
    "ExecuteTime": {
     "end_time": "2023-11-28T23:23:47.134309Z",
     "start_time": "2023-11-28T23:23:47.129474Z"
    }
   },
   "outputs": [
    {
     "name": "stdout",
     "output_type": "stream",
     "text": [
      "root\n",
      " |-- vendor: string (nullable = true)\n",
      " |-- tpep_pickup_datetime: timestamp (nullable = true)\n",
      " |-- tpep_dropoff_datetime: timestamp (nullable = true)\n",
      " |-- passenger_count: double (nullable = true)\n",
      " |-- trip_distance: double (nullable = true)\n",
      " |-- rate_type: string (nullable = true)\n",
      " |-- store_and_fwd_flag: string (nullable = true)\n",
      " |-- pu_location: string (nullable = true)\n",
      " |-- do_location: string (nullable = true)\n",
      " |-- payment_type: string (nullable = true)\n",
      " |-- fare_amount: double (nullable = true)\n",
      " |-- extra: double (nullable = true)\n",
      " |-- mta_tax: double (nullable = true)\n",
      " |-- tip_amount: double (nullable = true)\n",
      " |-- tolls_amount: double (nullable = true)\n",
      " |-- improvement_surcharge: double (nullable = true)\n",
      " |-- total_amount: double (nullable = true)\n",
      " |-- congestion_surcharge: integer (nullable = true)\n",
      " |-- airport_fee: integer (nullable = true)\n",
      "\n"
     ]
    }
   ],
   "source": [
    "df.printSchema()"
   ]
  },
  {
   "cell_type": "markdown",
   "id": "8b3afbda",
   "metadata": {},
   "source": [
    "### Detect and remove duplicates\n",
    "- Duplicates are trips with same pickup time,pickup location, dropoff time,drop off location and trip distance"
   ]
  },
  {
   "cell_type": "code",
   "execution_count": 8,
   "id": "distant-smart",
   "metadata": {
    "ExecuteTime": {
     "end_time": "2023-11-28T23:23:47.949509Z",
     "start_time": "2023-11-28T23:23:47.137604Z"
    }
   },
   "outputs": [
    {
     "data": {
      "text/plain": [
       "10905073"
      ]
     },
     "execution_count": 8,
     "metadata": {},
     "output_type": "execute_result"
    }
   ],
   "source": [
    " df.count()"
   ]
  },
  {
   "cell_type": "code",
   "execution_count": 9,
   "id": "19a08746",
   "metadata": {
    "ExecuteTime": {
     "end_time": "2023-11-28T23:23:47.956755Z",
     "start_time": "2023-11-28T23:23:47.952848Z"
    }
   },
   "outputs": [],
   "source": [
    "duplicate_columns = [\"tpep_pickup_datetime\", \"pu_location\", \"tpep_dropoff_datetime\", \"do_location\", \"trip_distance\"]"
   ]
  },
  {
   "cell_type": "code",
   "execution_count": 10,
   "id": "e79a41cc",
   "metadata": {
    "ExecuteTime": {
     "end_time": "2023-11-28T23:23:47.975556Z",
     "start_time": "2023-11-28T23:23:47.960597Z"
    }
   },
   "outputs": [],
   "source": [
    "df_no_duplicates = df.dropDuplicates(subset=duplicate_columns)"
   ]
  },
  {
   "cell_type": "code",
   "execution_count": 11,
   "id": "solved-covering",
   "metadata": {
    "ExecuteTime": {
     "end_time": "2023-11-28T23:23:56.043027Z",
     "start_time": "2023-11-28T23:23:47.978387Z"
    }
   },
   "outputs": [
    {
     "data": {
      "text/plain": [
       "10900876"
      ]
     },
     "execution_count": 11,
     "metadata": {},
     "output_type": "execute_result"
    }
   ],
   "source": [
    "df_no_duplicates.count()"
   ]
  },
  {
   "cell_type": "markdown",
   "id": "fe15c117",
   "metadata": {},
   "source": [
    "### check that there is are no duplicates"
   ]
  },
  {
   "cell_type": "code",
   "execution_count": 12,
   "id": "c169dd4d",
   "metadata": {
    "ExecuteTime": {
     "end_time": "2023-11-28T23:24:04.699500Z",
     "start_time": "2023-11-28T23:23:56.045852Z"
    }
   },
   "outputs": [
    {
     "name": "stdout",
     "output_type": "stream",
     "text": [
      "The DataFrame has 0 duplicate rows based on the given criteria.\n"
     ]
    }
   ],
   "source": [
    "duplicates_df_after_droping_duplicates = df_no_duplicates.groupBy(\n",
    "    \"tpep_pickup_datetime\", \"pu_location\", \n",
    "    \"tpep_dropoff_datetime\", \"do_location\", \n",
    "    \"trip_distance\"\n",
    ").count().where('count > 1')\n",
    "\n",
    "num_duplicates = duplicates_df_after_droping_duplicates.count()\n",
    "print(f\"The DataFrame has {num_duplicates} duplicate rows based on the given criteria.\")"
   ]
  },
  {
   "cell_type": "markdown",
   "id": "76a487be",
   "metadata": {},
   "source": [
    "### Detect missing\n",
    "- Create a function that takes in the df and returns any data structrue of your choice(df/dict,list,tuple,etc) which has the name of the column and percentage of missing entries from the whole dataset.\n",
    "- Tip : storing the missing info as dict where the key is the column name and value is the percentage would be the easiest.  "
   ]
  },
  {
   "cell_type": "code",
   "execution_count": 13,
   "id": "9a2291b5",
   "metadata": {
    "ExecuteTime": {
     "end_time": "2023-11-28T23:24:04.706273Z",
     "start_time": "2023-11-28T23:24:04.702009Z"
    }
   },
   "outputs": [],
   "source": [
    "def calculate_missing_percentage(df: DataFrame) -> dict:\n",
    "    total_rows = df.count()\n",
    "    missing_data = {}\n",
    "\n",
    "    for column in df.columns:\n",
    "        # Count the number of missing or null entries in each column\n",
    "        missing_count = df.filter((col(column).isNull()) | (col(column) == \"\")).count()\n",
    "        # Calculate the percentage of missing entries\n",
    "        missing_percentage = (missing_count / total_rows) * 100\n",
    "        missing_data[column] = missing_percentage\n",
    "\n",
    "    return missing_data"
   ]
  },
  {
   "cell_type": "markdown",
   "id": "0e459348",
   "metadata": {},
   "source": [
    "### Prinout the missing info"
   ]
  },
  {
   "cell_type": "code",
   "execution_count": 14,
   "id": "dbb209f7",
   "metadata": {
    "ExecuteTime": {
     "end_time": "2023-11-28T23:25:58.584845Z",
     "start_time": "2023-11-28T23:24:04.708865Z"
    },
    "scrolled": true
   },
   "outputs": [
    {
     "name": "stdout",
     "output_type": "stream",
     "text": [
      "Missing Data Percentage by Column:\n",
      "-----------------------------------\n",
      "vendor                         :   0.00%\n",
      "tpep_pickup_datetime           :   0.00%\n",
      "tpep_dropoff_datetime          :   0.00%\n",
      "passenger_count                :   0.00%\n",
      "trip_distance                  :   0.00%\n",
      "rate_type                      :   0.00%\n",
      "store_and_fwd_flag             :   0.00%\n",
      "pu_location                    :   0.00%\n",
      "do_location                    :   0.00%\n",
      "payment_type                   :   7.42%\n",
      "fare_amount                    :   0.00%\n",
      "extra                          :  52.35%\n",
      "mta_tax                        :   0.00%\n",
      "tip_amount                     :   0.00%\n",
      "tolls_amount                   :   0.00%\n",
      "improvement_surcharge          :   0.00%\n",
      "total_amount                   :   0.00%\n",
      "congestion_surcharge           : 100.00%\n",
      "airport_fee                    : 100.00%\n"
     ]
    }
   ],
   "source": [
    "def print_missing_data(missing_data: dict):\n",
    "    print(\"Missing Data Percentage by Column:\")\n",
    "    print(\"-----------------------------------\")\n",
    "    for column, percentage in missing_data.items():\n",
    "        print(f\"{column:<30} : {percentage:>6.2f}%\")\n",
    "\n",
    "# Example usage\n",
    "missing_percentages = calculate_missing_percentage(df_no_duplicates)\n",
    "print_missing_data(missing_percentages)"
   ]
  },
  {
   "cell_type": "markdown",
   "id": "ead65669",
   "metadata": {},
   "source": [
    "### Handle missing\n",
    "- For numerical features replace with 0.\n",
    "- For categorical/strings replace with 'Unknown'\n"
   ]
  },
  {
   "cell_type": "code",
   "execution_count": 15,
   "id": "3d78a72f",
   "metadata": {
    "ExecuteTime": {
     "end_time": "2023-11-28T23:25:58.590675Z",
     "start_time": "2023-11-28T23:25:58.586967Z"
    }
   },
   "outputs": [],
   "source": [
    "def replace_missing_values(df: DataFrame) -> DataFrame:\n",
    "    # Initialize dictionaries for replacement values\n",
    "    replacements = {}\n",
    "\n",
    "    for column in df.columns:\n",
    "        # Check the data type of the column\n",
    "        if isinstance(df.schema[column].dataType, NumericType):\n",
    "            # Set replacement value to 0 for numerical columns\n",
    "            replacements[column] = 0\n",
    "        elif isinstance(df.schema[column].dataType, StringType):\n",
    "            # Set replacement value to 'Unknown' for string columns\n",
    "            replacements[column] = \"Unknown\"\n",
    "\n",
    "    # Use fillna with the dictionary of replacements\n",
    "    df_imputed = df.fillna(value=replacements)\n",
    "\n",
    "    return df_imputed"
   ]
  },
  {
   "cell_type": "markdown",
   "id": "aa139136",
   "metadata": {},
   "source": [
    "### check that there are no missing values"
   ]
  },
  {
   "cell_type": "code",
   "execution_count": 16,
   "id": "85e3a9c9",
   "metadata": {
    "ExecuteTime": {
     "end_time": "2023-11-28T23:26:45.489759Z",
     "start_time": "2023-11-28T23:25:58.592776Z"
    }
   },
   "outputs": [
    {
     "name": "stdout",
     "output_type": "stream",
     "text": [
      "Missing Data Percentage by Column:\n",
      "-----------------------------------\n",
      "vendor                         :   0.00%\n",
      "tpep_pickup_datetime           :   0.00%\n",
      "tpep_dropoff_datetime          :   0.00%\n",
      "passenger_count                :   0.00%\n",
      "trip_distance                  :   0.00%\n",
      "rate_type                      :   0.00%\n",
      "store_and_fwd_flag             :   0.00%\n",
      "pu_location                    :   0.00%\n",
      "do_location                    :   0.00%\n",
      "payment_type                   :   0.00%\n",
      "fare_amount                    :   0.00%\n",
      "extra                          :   0.00%\n",
      "mta_tax                        :   0.00%\n",
      "tip_amount                     :   0.00%\n",
      "tolls_amount                   :   0.00%\n",
      "improvement_surcharge          :   0.00%\n",
      "total_amount                   :   0.00%\n",
      "congestion_surcharge           :   0.00%\n",
      "airport_fee                    :   0.00%\n"
     ]
    }
   ],
   "source": [
    "df_imputed = replace_missing_values(df_no_duplicates)\n",
    "missing_percentages = calculate_missing_percentage(df_imputed)\n",
    "print_missing_data(missing_percentages)"
   ]
  },
  {
   "cell_type": "markdown",
   "id": "36ac1d9f",
   "metadata": {},
   "source": [
    "## Feature engineering - \n",
    "Write a function that adds the 3 following features. Use built in fucntions in PySpark (from the functions library) check lab 8, Avoid writing UDFs from scratch.\n",
    "- trip duration (the format/unit is up to you)\n",
    "- is_weekend. whether the trip occurred on Saturday or Sunday.\n",
    "- week number (relevant to the month and not year, i.e 1,2,3,4 nto 31,32,33...) "
   ]
  },
  {
   "cell_type": "code",
   "execution_count": 17,
   "id": "3d3fcc55",
   "metadata": {
    "ExecuteTime": {
     "end_time": "2023-11-28T23:26:45.497698Z",
     "start_time": "2023-11-28T23:26:45.492285Z"
    }
   },
   "outputs": [],
   "source": [
    "def add_new_features(df: DataFrame) -> DataFrame:\n",
    "\n",
    "    # Trip duration in minutes\n",
    "    df = df.withColumn(\"trip_duration\", (col(\"tpep_dropoff_datetime\").cast(\"long\") - col(\"tpep_pickup_datetime\").cast(\"long\")) / 60)\n",
    "\n",
    "    # Check if the trip is on a weekend\n",
    "    df = df.withColumn(\"is_weekend\", dayofweek(\"tpep_pickup_datetime\").isin([1, 7]).cast(\"int\")) # 1 sunday , 7 saturday\n",
    "\n",
    "    # Week number of the month\n",
    "    df = df.withColumn(\"week_number\", weekofyear(\"tpep_pickup_datetime\") - weekofyear(date_format(\"tpep_pickup_datetime\", \"yyyy-MM-01\")) + 1)\n",
    "\n",
    "    return df"
   ]
  },
  {
   "cell_type": "code",
   "execution_count": 18,
   "id": "783d9bcb",
   "metadata": {
    "ExecuteTime": {
     "end_time": "2023-11-28T23:26:46.258589Z",
     "start_time": "2023-11-28T23:26:45.499815Z"
    }
   },
   "outputs": [],
   "source": [
    "df_with_features = add_new_features(df_imputed)"
   ]
  },
  {
   "cell_type": "markdown",
   "id": "8a927246",
   "metadata": {},
   "source": [
    "### Preview the first 20 rows (only select the following features: pickup and droptime, and the 3 features you added). "
   ]
  },
  {
   "cell_type": "code",
   "execution_count": 19,
   "id": "5e9aae0a",
   "metadata": {
    "ExecuteTime": {
     "end_time": "2023-11-28T23:26:50.149170Z",
     "start_time": "2023-11-28T23:26:46.261135Z"
    }
   },
   "outputs": [
    {
     "name": "stdout",
     "output_type": "stream",
     "text": [
      "+--------------------+---------------------+------------------+----------+-----------+\n",
      "|tpep_pickup_datetime|tpep_dropoff_datetime|     trip_duration|is_weekend|week_number|\n",
      "+--------------------+---------------------+------------------+----------+-----------+\n",
      "| 2016-01-01 01:22:08|  2016-01-01 01:27:13| 5.083333333333333|         0|          1|\n",
      "| 2016-01-01 01:59:55|  2016-01-01 02:30:21|30.433333333333334|         0|          1|\n",
      "| 2016-01-01 01:23:36|  2016-01-01 01:30:39|              7.05|         0|          1|\n",
      "| 2016-01-01 01:51:57|  2016-01-01 01:56:03|               4.1|         0|          1|\n",
      "| 2016-01-01 01:56:09|  2016-01-01 02:04:53| 8.733333333333333|         0|          1|\n",
      "| 2016-01-01 01:57:08|  2016-01-01 02:30:19| 33.18333333333333|         0|          1|\n",
      "| 2016-01-01 01:30:29|  2016-01-01 01:37:37| 7.133333333333334|         0|          1|\n",
      "| 2016-01-01 01:52:56|  2016-01-01 01:58:09| 5.216666666666667|         0|          1|\n",
      "| 2016-01-01 01:14:09|  2016-01-01 01:33:37|19.466666666666665|         0|          1|\n",
      "| 2016-01-01 01:50:04|  2016-01-01 01:58:12| 8.133333333333333|         0|          1|\n",
      "| 2016-01-01 01:09:21|  2016-01-01 01:16:51|               7.5|         0|          1|\n",
      "| 2016-01-01 01:10:31|  2016-01-01 01:44:14| 33.71666666666667|         0|          1|\n",
      "| 2016-01-01 01:20:29|  2016-01-01 01:46:40|26.183333333333334|         0|          1|\n",
      "| 2016-01-01 01:05:56|  2016-01-01 01:11:34| 5.633333333333334|         0|          1|\n",
      "| 2016-01-01 01:17:45|  2016-01-01 01:43:55|26.166666666666668|         0|          1|\n",
      "| 2016-01-01 01:33:24|  2016-01-01 01:41:48|               8.4|         0|          1|\n",
      "| 2016-01-01 01:27:28|  2016-01-01 01:47:11|19.716666666666665|         0|          1|\n",
      "| 2016-01-01 01:20:45|  2016-01-01 01:39:01|18.266666666666666|         0|          1|\n",
      "| 2016-01-01 01:48:37|  2016-01-01 01:59:35|10.966666666666667|         0|          1|\n",
      "| 2016-01-01 01:20:57|  2016-01-01 01:43:02|22.083333333333332|         0|          1|\n",
      "+--------------------+---------------------+------------------+----------+-----------+\n",
      "only showing top 20 rows\n",
      "\n"
     ]
    }
   ],
   "source": [
    "df_with_features.select(\"tpep_pickup_datetime\", \"tpep_dropoff_datetime\", \"trip_duration\", \"is_weekend\", \"week_number\").show(20)"
   ]
  },
  {
   "cell_type": "markdown",
   "id": "a5580ea4",
   "metadata": {},
   "source": [
    "## Analyses - Answer the following 5 questions (by showing the output and and a short 1-2 sentences regarding your observation/answer) \n",
    "\n",
    "MUST Use the PySpark SQL API.\n",
    "\n",
    "DO NOT explicitly write SQL queries. Doing so will result in 50% deduction (for the question). Check lab 7.\n",
    "\n",
    "You are free to add columns if it will help in answering a question and add useful info to the dataset."
   ]
  },
  {
   "cell_type": "markdown",
   "id": "9f1696d6",
   "metadata": {},
   "source": [
    "### 1- What is the average fare amount per payment type "
   ]
  },
  {
   "cell_type": "code",
   "execution_count": 20,
   "id": "97654b5c",
   "metadata": {
    "ExecuteTime": {
     "end_time": "2023-11-28T23:27:04.095973Z",
     "start_time": "2023-11-28T23:26:50.151193Z"
    }
   },
   "outputs": [
    {
     "name": "stdout",
     "output_type": "stream",
     "text": [
      "+------------+------------------+\n",
      "|payment_type|      average_fare|\n",
      "+------------+------------------+\n",
      "|     Unknown|12.311591304186663|\n",
      "|        Cash|11.512400503682002|\n",
      "|     Dispute|10.695270258583408|\n",
      "|   No charge|11.184720309810677|\n",
      "| Credit card|13.017946893502431|\n",
      "+------------+------------------+\n",
      "\n"
     ]
    }
   ],
   "source": [
    "average_fare_per_payment_type = df_with_features.groupBy(\"payment_type\").agg(avg(\"fare_amount\").alias(\"average_fare\"))\n",
    "\n",
    "average_fare_per_payment_type.show()"
   ]
  },
  {
   "cell_type": "markdown",
   "id": "compressed-addition",
   "metadata": {},
   "source": [
    "- Credit card payments show the highest average fare at approximately `$13.02`, while disputes have the lowest at about `$10.70`."
   ]
  },
  {
   "cell_type": "markdown",
   "id": "281874a7",
   "metadata": {},
   "source": [
    "### 2- Do people tend to go on a longer trips during the weekend or weekdays?"
   ]
  },
  {
   "cell_type": "code",
   "execution_count": 21,
   "id": "cc06dacb",
   "metadata": {
    "ExecuteTime": {
     "end_time": "2023-11-28T23:27:11.086776Z",
     "start_time": "2023-11-28T23:27:04.098663Z"
    }
   },
   "outputs": [
    {
     "name": "stdout",
     "output_type": "stream",
     "text": [
      "+----------+------------------+\n",
      "|is_weekend|avg(trip_duration)|\n",
      "+----------+------------------+\n",
      "|         1|14.632815909836818|\n",
      "|         0| 15.54322676289103|\n",
      "+----------+------------------+\n",
      "\n"
     ]
    }
   ],
   "source": [
    "df_with_features.groupBy(\"is_weekend\").avg(\"trip_duration\").show()"
   ]
  },
  {
   "cell_type": "markdown",
   "id": "portuguese-mouse",
   "metadata": {},
   "source": [
    "- Trips during weekdays have a higher average duration (about 15.54 minutes) compared to weekends (about 14.63 minutes), indicating that people tend to take longer trips on weekdays."
   ]
  },
  {
   "cell_type": "markdown",
   "id": "ee349df0",
   "metadata": {},
   "source": [
    "### 3 - which day recorded the most trips?"
   ]
  },
  {
   "cell_type": "code",
   "execution_count": 22,
   "id": "4427c9ee",
   "metadata": {
    "ExecuteTime": {
     "end_time": "2023-11-28T23:27:11.133592Z",
     "start_time": "2023-11-28T23:27:11.089601Z"
    }
   },
   "outputs": [],
   "source": [
    "trips_by_date = df_with_features.groupBy(to_date(col(\"tpep_pickup_datetime\")).alias(\"date\")).agg(count(\"*\").alias(\"trip_count\"))\n",
    "\n",
    "most_trips_date = trips_by_date.orderBy(col(\"trip_count\").desc()).limit(1)"
   ]
  },
  {
   "cell_type": "code",
   "execution_count": 23,
   "id": "414dff4f",
   "metadata": {
    "ExecuteTime": {
     "end_time": "2023-11-28T23:27:18.594593Z",
     "start_time": "2023-11-28T23:27:11.137784Z"
    },
    "scrolled": true
   },
   "outputs": [
    {
     "name": "stdout",
     "output_type": "stream",
     "text": [
      "+----------+----------+\n",
      "|      date|trip_count|\n",
      "+----------+----------+\n",
      "|2016-01-30|    434579|\n",
      "+----------+----------+\n",
      "\n"
     ]
    }
   ],
   "source": [
    "most_trips_date.show()\n"
   ]
  },
  {
   "cell_type": "markdown",
   "id": "frozen-arcade",
   "metadata": {},
   "source": [
    "- The day that recorded the most trips was January 30, 2016, with a total of 434,579 trips."
   ]
  },
  {
   "cell_type": "markdown",
   "id": "f8dc3e82",
   "metadata": {},
   "source": [
    "### 4- What is the average \"total amount\" of trips with more than 2 passengers?"
   ]
  },
  {
   "cell_type": "code",
   "execution_count": 24,
   "id": "4ceebb49",
   "metadata": {
    "ExecuteTime": {
     "end_time": "2023-11-28T23:27:26.929644Z",
     "start_time": "2023-11-28T23:27:18.598003Z"
    }
   },
   "outputs": [
    {
     "name": "stdout",
     "output_type": "stream",
     "text": [
      "+--------------------+\n",
      "|average_total_amount|\n",
      "+--------------------+\n",
      "|  15.721455626940072|\n",
      "+--------------------+\n",
      "\n"
     ]
    }
   ],
   "source": [
    "df_more_than_two_passengers = df_with_features.filter(col(\"passenger_count\") > 2)\n",
    "\n",
    "average_total_amount = df_more_than_two_passengers.agg(avg(\"total_amount\").alias(\"average_total_amount\"))\n",
    "\n",
    "# Show the result\n",
    "average_total_amount.show()"
   ]
  },
  {
   "cell_type": "markdown",
   "id": "characteristic-garlic",
   "metadata": {},
   "source": [
    "- The average total amount for trips with more than 2 passengers is approximately $15.72."
   ]
  },
  {
   "cell_type": "markdown",
   "id": "d090c1af",
   "metadata": {},
   "source": [
    "### 5- On average, when is it more likely that the tip is higher, when there are multiple passengers or just 1.?"
   ]
  },
  {
   "cell_type": "code",
   "execution_count": 25,
   "id": "56ea2ad5",
   "metadata": {
    "ExecuteTime": {
     "end_time": "2023-11-28T23:27:44.344703Z",
     "start_time": "2023-11-28T23:27:26.932944Z"
    }
   },
   "outputs": [
    {
     "name": "stdout",
     "output_type": "stream",
     "text": [
      "+----------------------------+\n",
      "|average_tip_single_passenger|\n",
      "+----------------------------+\n",
      "|          1.7570142760509586|\n",
      "+----------------------------+\n",
      "\n",
      "+-------------------------------+\n",
      "|average_tip_multiple_passengers|\n",
      "+-------------------------------+\n",
      "|             1.7379321409699922|\n",
      "+-------------------------------+\n",
      "\n"
     ]
    }
   ],
   "source": [
    "average_tip_single_passenger = df_with_features.filter(col(\"passenger_count\") == 1) \\\n",
    "                                 .agg(avg(\"tip_amount\").alias(\"average_tip_single_passenger\"))\n",
    "\n",
    "# Calculate the average tip amount for multiple passenger trips\n",
    "average_tip_multiple_passengers = df_with_features.filter(col(\"passenger_count\") > 1) \\\n",
    "                                    .agg(avg(\"tip_amount\").alias(\"average_tip_multiple_passengers\"))\n",
    "\n",
    "# Show the results\n",
    "average_tip_single_passenger.show()\n",
    "average_tip_multiple_passengers.show()"
   ]
  },
  {
   "cell_type": "markdown",
   "id": "german-basic",
   "metadata": {},
   "source": [
    "- On average, single-passenger trips have a slightly higher tip amount at about `$1.76` compared to trips with multiple passengers, which average around `$1.74` in tips."
   ]
  },
  {
   "cell_type": "markdown",
   "id": "ee83fe0b",
   "metadata": {},
   "source": [
    "### 6- What is the most frequent route on the weekend. "
   ]
  },
  {
   "cell_type": "code",
   "execution_count": 26,
   "id": "448ae113",
   "metadata": {
    "ExecuteTime": {
     "end_time": "2023-11-28T23:27:51.104245Z",
     "start_time": "2023-11-28T23:27:44.346785Z"
    }
   },
   "outputs": [
    {
     "name": "stdout",
     "output_type": "stream",
     "text": [
      "+-----------+-----------+----------+\n",
      "|pu_location|do_location|trip_count|\n",
      "+-----------+-----------+----------+\n",
      "| Unknown,NV| Unknown,NV|     40617|\n",
      "+-----------+-----------+----------+\n",
      "\n"
     ]
    }
   ],
   "source": [
    "weekend_trips = df_with_features.filter(col(\"is_weekend\") == 1)\n",
    "\n",
    "# Group by pickup and dropoff location, and count the number of trips for each route\n",
    "route_counts = weekend_trips.groupBy(\"pu_location\", \"do_location\").agg(count(\"*\").alias(\"trip_count\"))\n",
    "\n",
    "# Find the most frequent route\n",
    "most_frequent_route = route_counts.orderBy(col(\"trip_count\").desc()).limit(1)\n",
    "\n",
    "# Show the result\n",
    "most_frequent_route.show()"
   ]
  },
  {
   "cell_type": "markdown",
   "id": "agreed-council",
   "metadata": {},
   "source": [
    "- The most frequent route on the weekend was from \"Unknown, NV\" to \"Unknown, NV\", with a total of 40,617 trips."
   ]
  },
  {
   "cell_type": "markdown",
   "id": "dfd702ec",
   "metadata": {},
   "source": [
    "## Encoding\n",
    "- Label encode all categorical fetaures.\n",
    "- Create a lookup table for these label encoded features. You can use the same format/example as the lookup table in Milestone 1 description.\n",
    "\n",
    "(You are allowed to store and manipulate the lookup table as a pandas dataframe, it does not have to be a PySpark df).\n",
    "- Remove the original unencoded categorical features from the df after encoding."
   ]
  },
  {
   "cell_type": "code",
   "execution_count": 27,
   "id": "cc07c545",
   "metadata": {
    "ExecuteTime": {
     "end_time": "2023-11-28T23:27:51.119936Z",
     "start_time": "2023-11-28T23:27:51.106191Z"
    }
   },
   "outputs": [],
   "source": [
    "def label_encode_and_create_lookup(df: DataFrame, categorical_columns: list) -> (DataFrame, pd.DataFrame):\n",
    "    # DataFrame to store all lookup information\n",
    "    all_lookups = pd.DataFrame(columns=['feature', 'old_value', 'new_value'])\n",
    "\n",
    "    for column in categorical_columns:\n",
    "        # Create the indexer\n",
    "        indexer = StringIndexer(inputCol=column, outputCol=column + \"_encoded\")\n",
    "\n",
    "        # Fit the indexer to the DataFrame and transform the column\n",
    "        model = indexer.fit(df)\n",
    "        df = model.transform(df)\n",
    "\n",
    "        # Create a lookup table for this column\n",
    "        labels = model.labels\n",
    "        lookup_table = pd.DataFrame({\n",
    "            'feature': column,\n",
    "            'old_value': labels,\n",
    "            'new_value': range(len(labels))\n",
    "        })\n",
    "\n",
    "        # Append this lookup table to the all_lookups DataFrame\n",
    "        all_lookups = pd.concat([all_lookups, lookup_table], ignore_index=True)\n",
    "\n",
    "        # Drop the original column\n",
    "        df = df.drop(column)\n",
    "\n",
    "    return df, all_lookups"
   ]
  },
  {
   "cell_type": "code",
   "execution_count": 28,
   "id": "0177519e",
   "metadata": {
    "ExecuteTime": {
     "end_time": "2023-11-28T23:28:39.487622Z",
     "start_time": "2023-11-28T23:27:51.122115Z"
    }
   },
   "outputs": [],
   "source": [
    "categorical_columns = ['vendor', 'rate_type', 'store_and_fwd_flag', 'pu_location', 'do_location', 'payment_type']\n",
    "df_encoded, lookup_table = label_encode_and_create_lookup(df_with_features, categorical_columns)"
   ]
  },
  {
   "cell_type": "markdown",
   "id": "7a810bca",
   "metadata": {},
   "source": [
    "### Preview first 20 rows of the label encoded features"
   ]
  },
  {
   "cell_type": "code",
   "execution_count": 29,
   "id": "54de3b3e",
   "metadata": {
    "ExecuteTime": {
     "end_time": "2023-11-28T23:28:56.067450Z",
     "start_time": "2023-11-28T23:28:39.489241Z"
    }
   },
   "outputs": [
    {
     "name": "stdout",
     "output_type": "stream",
     "text": [
      "-RECORD 0--------------------------\n",
      " vendor_encoded             | 0.0  \n",
      " rate_type_encoded          | 0.0  \n",
      " store_and_fwd_flag_encoded | 0.0  \n",
      " pu_location_encoded        | 27.0 \n",
      " do_location_encoded        | 7.0  \n",
      " payment_type_encoded       | 1.0  \n",
      "-RECORD 1--------------------------\n",
      " vendor_encoded             | 1.0  \n",
      " rate_type_encoded          | 0.0  \n",
      " store_and_fwd_flag_encoded | 0.0  \n",
      " pu_location_encoded        | 13.0 \n",
      " do_location_encoded        | 11.0 \n",
      " payment_type_encoded       | 2.0  \n",
      "-RECORD 2--------------------------\n",
      " vendor_encoded             | 1.0  \n",
      " rate_type_encoded          | 0.0  \n",
      " store_and_fwd_flag_encoded | 0.0  \n",
      " pu_location_encoded        | 32.0 \n",
      " do_location_encoded        | 15.0 \n",
      " payment_type_encoded       | 2.0  \n",
      "-RECORD 3--------------------------\n",
      " vendor_encoded             | 1.0  \n",
      " rate_type_encoded          | 0.0  \n",
      " store_and_fwd_flag_encoded | 0.0  \n",
      " pu_location_encoded        | 4.0  \n",
      " do_location_encoded        | 29.0 \n",
      " payment_type_encoded       | 0.0  \n",
      "-RECORD 4--------------------------\n",
      " vendor_encoded             | 1.0  \n",
      " rate_type_encoded          | 0.0  \n",
      " store_and_fwd_flag_encoded | 0.0  \n",
      " pu_location_encoded        | 0.0  \n",
      " do_location_encoded        | 22.0 \n",
      " payment_type_encoded       | 1.0  \n",
      "-RECORD 5--------------------------\n",
      " vendor_encoded             | 0.0  \n",
      " rate_type_encoded          | 0.0  \n",
      " store_and_fwd_flag_encoded | 0.0  \n",
      " pu_location_encoded        | 21.0 \n",
      " do_location_encoded        | 2.0  \n",
      " payment_type_encoded       | 1.0  \n",
      "-RECORD 6--------------------------\n",
      " vendor_encoded             | 1.0  \n",
      " rate_type_encoded          | 0.0  \n",
      " store_and_fwd_flag_encoded | 0.0  \n",
      " pu_location_encoded        | 6.0  \n",
      " do_location_encoded        | 6.0  \n",
      " payment_type_encoded       | 0.0  \n",
      "-RECORD 7--------------------------\n",
      " vendor_encoded             | 1.0  \n",
      " rate_type_encoded          | 0.0  \n",
      " store_and_fwd_flag_encoded | 0.0  \n",
      " pu_location_encoded        | 7.0  \n",
      " do_location_encoded        | 14.0 \n",
      " payment_type_encoded       | 0.0  \n",
      "-RECORD 8--------------------------\n",
      " vendor_encoded             | 1.0  \n",
      " rate_type_encoded          | 0.0  \n",
      " store_and_fwd_flag_encoded | 0.0  \n",
      " pu_location_encoded        | 36.0 \n",
      " do_location_encoded        | 25.0 \n",
      " payment_type_encoded       | 0.0  \n",
      "-RECORD 9--------------------------\n",
      " vendor_encoded             | 1.0  \n",
      " rate_type_encoded          | 0.0  \n",
      " store_and_fwd_flag_encoded | 0.0  \n",
      " pu_location_encoded        | 3.0  \n",
      " do_location_encoded        | 6.0  \n",
      " payment_type_encoded       | 0.0  \n",
      "-RECORD 10-------------------------\n",
      " vendor_encoded             | 0.0  \n",
      " rate_type_encoded          | 0.0  \n",
      " store_and_fwd_flag_encoded | 0.0  \n",
      " pu_location_encoded        | 11.0 \n",
      " do_location_encoded        | 19.0 \n",
      " payment_type_encoded       | 0.0  \n",
      "-RECORD 11-------------------------\n",
      " vendor_encoded             | 0.0  \n",
      " rate_type_encoded          | 0.0  \n",
      " store_and_fwd_flag_encoded | 0.0  \n",
      " pu_location_encoded        | 21.0 \n",
      " do_location_encoded        | 30.0 \n",
      " payment_type_encoded       | 1.0  \n",
      "-RECORD 12-------------------------\n",
      " vendor_encoded             | 1.0  \n",
      " rate_type_encoded          | 0.0  \n",
      " store_and_fwd_flag_encoded | 0.0  \n",
      " pu_location_encoded        | 29.0 \n",
      " do_location_encoded        | 39.0 \n",
      " payment_type_encoded       | 1.0  \n",
      "-RECORD 13-------------------------\n",
      " vendor_encoded             | 1.0  \n",
      " rate_type_encoded          | 0.0  \n",
      " store_and_fwd_flag_encoded | 0.0  \n",
      " pu_location_encoded        | 25.0 \n",
      " do_location_encoded        | 1.0  \n",
      " payment_type_encoded       | 1.0  \n",
      "-RECORD 14-------------------------\n",
      " vendor_encoded             | 1.0  \n",
      " rate_type_encoded          | 0.0  \n",
      " store_and_fwd_flag_encoded | 0.0  \n",
      " pu_location_encoded        | 6.0  \n",
      " do_location_encoded        | 25.0 \n",
      " payment_type_encoded       | 1.0  \n",
      "-RECORD 15-------------------------\n",
      " vendor_encoded             | 1.0  \n",
      " rate_type_encoded          | 0.0  \n",
      " store_and_fwd_flag_encoded | 0.0  \n",
      " pu_location_encoded        | 11.0 \n",
      " do_location_encoded        | 9.0  \n",
      " payment_type_encoded       | 1.0  \n",
      "-RECORD 16-------------------------\n",
      " vendor_encoded             | 0.0  \n",
      " rate_type_encoded          | 0.0  \n",
      " store_and_fwd_flag_encoded | 0.0  \n",
      " pu_location_encoded        | 12.0 \n",
      " do_location_encoded        | 19.0 \n",
      " payment_type_encoded       | 0.0  \n",
      "-RECORD 17-------------------------\n",
      " vendor_encoded             | 0.0  \n",
      " rate_type_encoded          | 0.0  \n",
      " store_and_fwd_flag_encoded | 0.0  \n",
      " pu_location_encoded        | 34.0 \n",
      " do_location_encoded        | 22.0 \n",
      " payment_type_encoded       | 0.0  \n",
      "-RECORD 18-------------------------\n",
      " vendor_encoded             | 0.0  \n",
      " rate_type_encoded          | 0.0  \n",
      " store_and_fwd_flag_encoded | 0.0  \n",
      " pu_location_encoded        | 4.0  \n",
      " do_location_encoded        | 8.0  \n",
      " payment_type_encoded       | 0.0  \n",
      "-RECORD 19-------------------------\n",
      " vendor_encoded             | 0.0  \n",
      " rate_type_encoded          | 0.0  \n",
      " store_and_fwd_flag_encoded | 0.0  \n",
      " pu_location_encoded        | 35.0 \n",
      " do_location_encoded        | 38.0 \n",
      " payment_type_encoded       | 1.0  \n",
      "only showing top 20 rows\n",
      "\n"
     ]
    }
   ],
   "source": [
    "df_encoded.select([f'{feature}_encoded' for feature in categorical_columns]).show(vertical=True)"
   ]
  },
  {
   "cell_type": "markdown",
   "id": "547d8fc3",
   "metadata": {},
   "source": [
    "### Preview first 20 rows of your lookup table"
   ]
  },
  {
   "cell_type": "code",
   "execution_count": 30,
   "id": "0e8374f2",
   "metadata": {
    "ExecuteTime": {
     "end_time": "2023-11-28T23:28:56.118983Z",
     "start_time": "2023-11-28T23:28:56.069526Z"
    }
   },
   "outputs": [
    {
     "name": "stdout",
     "output_type": "stream",
     "text": [
      "               feature                               old_value new_value\n",
      "0               vendor                           VeriFone Inc.         0\n",
      "1               vendor       Creative Mobile Technologies, LLC         1\n",
      "2            rate_type                           Standard rate         0\n",
      "3            rate_type                                     JFK         1\n",
      "4            rate_type                         Negotiated fare         2\n",
      "5            rate_type                                  Newark         3\n",
      "6            rate_type                   Nassau or Westchester         4\n",
      "7            rate_type                                 Unknown         5\n",
      "8            rate_type                              Group ride         6\n",
      "9   store_and_fwd_flag                                       N         0\n",
      "10  store_and_fwd_flag                                       Y         1\n",
      "11         pu_location         Manhattan,Upper East Side South         0\n",
      "12         pu_location                Manhattan,Midtown Center         1\n",
      "13         pu_location         Manhattan,Upper East Side North         2\n",
      "14         pu_location     Manhattan,Times Sq/Theatre District         3\n",
      "15         pu_location                      Manhattan,Union Sq         4\n",
      "16         pu_location                  Manhattan,Midtown East         5\n",
      "17         pu_location                  Manhattan,East Village         6\n",
      "18         pu_location  Manhattan,Penn Station/Madison Sq West         7\n",
      "19         pu_location                   Manhattan,Murray Hill         8\n"
     ]
    }
   ],
   "source": [
    "print(lookup_table.head(20))"
   ]
  },
  {
   "cell_type": "markdown",
   "id": "fcdd7830",
   "metadata": {},
   "source": [
    "### Load the cleaned PySpark df to a parquet file and the lookup table to a csv file."
   ]
  },
  {
   "cell_type": "code",
   "execution_count": 31,
   "id": "90fbdb44",
   "metadata": {
    "ExecuteTime": {
     "end_time": "2023-11-28T23:30:11.298834Z",
     "start_time": "2023-11-28T23:28:56.121507Z"
    }
   },
   "outputs": [],
   "source": [
    "parquet_file_path = \"yellow_trip_data_2016-01clean.parquet\"\n",
    "df_encoded.write.parquet(parquet_file_path, mode=\"overwrite\")"
   ]
  },
  {
   "cell_type": "code",
   "execution_count": 32,
   "id": "57d45165",
   "metadata": {
    "ExecuteTime": {
     "end_time": "2023-11-28T23:30:11.313437Z",
     "start_time": "2023-11-28T23:30:11.300632Z"
    }
   },
   "outputs": [],
   "source": [
    "csv_file_path = \"lookup_table_yellow_taxis.csv\"\n",
    "lookup_table.to_csv(csv_file_path, index=False)"
   ]
  },
  {
   "cell_type": "markdown",
   "id": "846f97ac",
   "metadata": {},
   "source": [
    "## Bonus - Load the cleaned parquet file and lookup table into a Postgres database. \n",
    "\n",
    "Note that if you decide to do the bonus, you must include not only your notebook but the docker-compose.yaml file aswell."
   ]
  },
  {
   "cell_type": "code",
   "execution_count": null,
   "id": "f0334636",
   "metadata": {},
   "outputs": [],
   "source": []
  },
  {
   "cell_type": "code",
   "execution_count": null,
   "id": "b1ef76b5",
   "metadata": {},
   "outputs": [],
   "source": []
  },
  {
   "cell_type": "markdown",
   "id": "598c8f58",
   "metadata": {},
   "source": [
    "### Screenshot of the table existing in the database and a simple query such as `select count(*) from table_name` or `select * from table_name limit 10`\n",
    "\n",
    "(You can just copy paste the screenshots in the markdown cells below)"
   ]
  },
  {
   "cell_type": "markdown",
   "id": "e4082ea3",
   "metadata": {},
   "source": []
  },
  {
   "cell_type": "markdown",
   "id": "d6329f74",
   "metadata": {},
   "source": []
  },
  {
   "cell_type": "markdown",
   "id": "e30ecdbd",
   "metadata": {},
   "source": []
  }
 ],
 "metadata": {
  "kernelspec": {
   "display_name": "Python 3",
   "language": "python",
   "name": "python3"
  },
  "language_info": {
   "codemirror_mode": {
    "name": "ipython",
    "version": 3
   },
   "file_extension": ".py",
   "mimetype": "text/x-python",
   "name": "python",
   "nbconvert_exporter": "python",
   "pygments_lexer": "ipython3",
   "version": "3.8.5"
  },
  "toc": {
   "base_numbering": 1,
   "nav_menu": {},
   "number_sections": true,
   "sideBar": true,
   "skip_h1_title": false,
   "title_cell": "Table of Contents",
   "title_sidebar": "Contents",
   "toc_cell": false,
   "toc_position": {},
   "toc_section_display": true,
   "toc_window_display": false
  }
 },
 "nbformat": 4,
 "nbformat_minor": 5
}
